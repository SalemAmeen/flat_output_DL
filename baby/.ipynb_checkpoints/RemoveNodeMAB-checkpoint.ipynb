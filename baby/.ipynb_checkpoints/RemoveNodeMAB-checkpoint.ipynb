{
 "cells": [
  {
   "cell_type": "markdown",
   "metadata": {},
   "source": [
    "# bAbI dataset\n",
    "Trains a memory network on the bAbI dataset.\n",
    "\n",
    "References:\n",
    "- Jason Weston, Antoine Bordes, Sumit Chopra, Tomas Mikolov, Alexander M. Rush,\n",
    "  \"Towards AI-Complete Question Answering: A Set of Prerequisite Toy Tasks\",\n",
    "  http://arxiv.org/abs/1502.05698\n",
    "\n",
    "- Sainbayar Sukhbaatar, Arthur Szlam, Jason Weston, Rob Fergus,\n",
    "  \"End-To-End Memory Networks\",\n",
    "  http://arxiv.org/abs/1503.08895"
   ]
  },
  {
   "cell_type": "markdown",
   "metadata": {},
   "source": [
    "Compute the performance of MAB methods on IMDB Movie reviews sentiment classification\n",
    "# set parameters :\n",
    "\n",
    "max_features = 20000\n",
    "maxlen = 80  # cut texts after this number of words (among top max_features most common words)\n",
    "batch_size = 32\n",
    "Play 400"
   ]
  },
  {
   "cell_type": "code",
   "execution_count": 1,
   "metadata": {
    "collapsed": true
   },
   "outputs": [],
   "source": [
    "import numpy as np\n",
    "from numpy import *\n",
    "import time\n",
    "import sys\n",
    "import matplotlib.pyplot as plt\n",
    "from sklearn import metrics\n",
    "from IPython.display import set_matplotlib_formats\n",
    "set_matplotlib_formats('png', 'pdf')\n",
    "%matplotlib inline\n",
    "#plt.rcParams['figure.figsize'] = (15, 6)"
   ]
  },
  {
   "cell_type": "code",
   "execution_count": 5,
   "metadata": {
    "collapsed": false
   },
   "outputs": [],
   "source": [
    "# execfile(\"core.py\") #python 2.7\n",
    "exec(open(\"core.py\").read()) # python 3\n"
   ]
  },
  {
   "cell_type": "code",
   "execution_count": 8,
   "metadata": {
    "collapsed": false
   },
   "outputs": [
    {
     "name": "stdout",
     "output_type": "stream",
     "text": [
      "Extracting stories for the challenge: single_supporting_fact_10k\n"
     ]
    },
    {
     "name": "stderr",
     "output_type": "stream",
     "text": [
      "/usr/lib/python3.5/re.py:203: FutureWarning: split() requires a non-empty pattern match.\n",
      "  return _compile(pattern, flags).split(string, maxsplit)\n"
     ]
    },
    {
     "name": "stdout",
     "output_type": "stream",
     "text": [
      "-\n",
      "Vocab size: 22 unique words\n",
      "Story max length: 68 words\n",
      "Query max length: 4 words\n",
      "Number of training stories: 10000\n",
      "Number of test stories: 1000\n",
      "-\n",
      "Here's what a \"story\" tuple looks like (input, query, answer):\n",
      "(['Mary', 'moved', 'to', 'the', 'bathroom', '.', 'John', 'went', 'to', 'the', 'hallway', '.'], ['Where', 'is', 'Mary', '?'], 'bathroom')\n",
      "-\n",
      "Vectorizing the word sequences...\n",
      "-\n",
      "inputs: integer tensor of shape (samples, max_length)\n",
      "inputs_train shape: (10000, 68)\n",
      "inputs_test shape: (1000, 68)\n",
      "-\n",
      "queries: integer tensor of shape (samples, max_length)\n",
      "queries_train shape: (10000, 4)\n",
      "queries_test shape: (1000, 4)\n",
      "-\n",
      "answers: binary (1 or 0) tensor of shape (samples, vocab_size)\n",
      "answers_train shape: (10000, 22)\n",
      "answers_test shape: (1000, 22)\n",
      "-\n",
      "Compiling...\n",
      "Test score: 0.353831399202\n",
      "Test accuracy: 0.8589\n"
     ]
    }
   ],
   "source": [
    "#execfile(\"babyTest.py\")\n",
    "exec(open(\"babyTest.py\").read()) # python 3"
   ]
  },
  {
   "cell_type": "markdown",
   "metadata": {},
   "source": [
    "# Summary of the model"
   ]
  },
  {
   "cell_type": "code",
   "execution_count": 9,
   "metadata": {
    "collapsed": false
   },
   "outputs": [
    {
     "name": "stdout",
     "output_type": "stream",
     "text": [
      "____________________________________________________________________________________________________\n",
      "Layer (type)                     Output Shape          Param #     Connected to                     \n",
      "====================================================================================================\n",
      "embedding_1 (Embedding)          (None, 68, 64)        1408                                         \n",
      "____________________________________________________________________________________________________\n",
      "dropout_1 (Dropout)              (None, 68, 64)        0                                            \n",
      "____________________________________________________________________________________________________\n",
      "embedding_2 (Embedding)          (None, 4, 64)         1408                                         \n",
      "____________________________________________________________________________________________________\n",
      "dropout_2 (Dropout)              (None, 4, 64)         0                                            \n",
      "____________________________________________________________________________________________________\n",
      "embedding_3 (Embedding)          (None, 68, 4)         88                                           \n",
      "____________________________________________________________________________________________________\n",
      "dropout_3 (Dropout)              (None, 68, 4)         0                                            \n",
      "____________________________________________________________________________________________________\n",
      "permute_1 (Permute)              (None, 4, 68)         0                                            \n",
      "____________________________________________________________________________________________________\n",
      "lstm_1 (LSTM)                    (None, 32)            21120       merge_3[0][0]                    \n",
      "____________________________________________________________________________________________________\n",
      "dropout_4 (Dropout)              (None, 32)            0           lstm_1[0][0]                     \n",
      "____________________________________________________________________________________________________\n",
      "dense_1 (Dense)                  (None, 22)            726         dropout_4[0][0]                  \n",
      "____________________________________________________________________________________________________\n",
      "activation_1 (Activation)        (None, 22)            0           dense_1[0][0]                    \n",
      "====================================================================================================\n",
      "Total params: 24,750\n",
      "Trainable params: 24,750\n",
      "Non-trainable params: 0\n",
      "____________________________________________________________________________________________________\n"
     ]
    }
   ],
   "source": [
    "answer.summary()"
   ]
  },
  {
   "cell_type": "markdown",
   "metadata": {},
   "source": [
    "# Run UCB1 pruning Algorithm"
   ]
  },
  {
   "cell_type": "code",
   "execution_count": 12,
   "metadata": {
    "collapsed": false
   },
   "outputs": [
    {
     "ename": "NameError",
     "evalue": "name 'execfile' is not defined",
     "output_type": "error",
     "traceback": [
      "\u001b[0;31m---------------------------------------------------------------------------\u001b[0m",
      "\u001b[0;31mNameError\u001b[0m                                 Traceback (most recent call last)",
      "\u001b[0;32m<ipython-input-12-1184022f830b>\u001b[0m in \u001b[0;36m<module>\u001b[0;34m()\u001b[0m\n\u001b[1;32m      4\u001b[0m \u001b[0msys\u001b[0m\u001b[0;34m.\u001b[0m\u001b[0mpath\u001b[0m\u001b[0;34m.\u001b[0m\u001b[0mappend\u001b[0m\u001b[0;34m(\u001b[0m\u001b[0;34m\"./IrisUCB1\"\u001b[0m\u001b[0;34m)\u001b[0m\u001b[0;34m\u001b[0m\u001b[0m\n\u001b[1;32m      5\u001b[0m \u001b[0;31m#execfile('mnist_cnnFORTESTING.py')\u001b[0m\u001b[0;34m\u001b[0m\u001b[0;34m\u001b[0m\u001b[0m\n\u001b[0;32m----> 6\u001b[0;31m \u001b[0mexec\u001b[0m\u001b[0;34m(\u001b[0m\u001b[0mopen\u001b[0m\u001b[0;34m(\u001b[0m\u001b[0;34m\"mnist_cnnFORTESTING.py\"\u001b[0m\u001b[0;34m)\u001b[0m\u001b[0;34m.\u001b[0m\u001b[0mread\u001b[0m\u001b[0;34m(\u001b[0m\u001b[0;34m)\u001b[0m\u001b[0;34m)\u001b[0m \u001b[0;31m# python 3\u001b[0m\u001b[0;34m\u001b[0m\u001b[0m\n\u001b[0m",
      "\u001b[0;32m<string>\u001b[0m in \u001b[0;36m<module>\u001b[0;34m()\u001b[0m\n",
      "\u001b[0;31mNameError\u001b[0m: name 'execfile' is not defined"
     ]
    }
   ],
   "source": [
    "algo = UCB1([], [])\n",
    "Alg_name = 'UCB1 Algorithm'\n",
    "path = './IrisUCB1/'\n",
    "sys.path.append(\"./IrisUCB1\")\n",
    "#execfile('mnist_cnnFORTESTING.py')\n",
    "exec(open(\"mnist_cnnFORTESTING.py\").read()) # python 3"
   ]
  },
  {
   "cell_type": "markdown",
   "metadata": {},
   "source": [
    "# Run Annealing Epsilon Greedy pruning Algorithm"
   ]
  },
  {
   "cell_type": "code",
   "execution_count": null,
   "metadata": {
    "collapsed": false
   },
   "outputs": [],
   "source": [
    "algo = AnnealingEpsilonGreedy([], [])\n",
    "Alg_name = 'Annealing Epsilon Greedy Algorithm'\n",
    "path = './IrisAnnealingEpsilonGreedy/'\n",
    "sys.path.append(\"./IrisAnnealingEpsilonGreedy\")\n",
    "execfile('mnist_cnnFORTESTING.py')"
   ]
  },
  {
   "cell_type": "markdown",
   "metadata": {},
   "source": [
    "# Run Epsilon Greedy pruning Algorithm"
   ]
  },
  {
   "cell_type": "code",
   "execution_count": null,
   "metadata": {
    "collapsed": false
   },
   "outputs": [],
   "source": [
    "epsilon = 0.9 # epsilon = (0,1)\n",
    "algo = EpsilonGreedy(epsilon, [], [])\n",
    "Alg_name = 'Epsilon Greedy Algorithm'\n",
    "path = './IrisEpsilonGreedy/'\n",
    "sys.path.append(\"./IrisAnnealingEpsilonGreedy\")\n",
    "execfile('mnist_cnnFORTESTING.py')"
   ]
  },
  {
   "cell_type": "markdown",
   "metadata": {},
   "source": [
    "# Run Exp3 pruning Algorithm"
   ]
  },
  {
   "cell_type": "code",
   "execution_count": null,
   "metadata": {
    "collapsed": false,
    "scrolled": true
   },
   "outputs": [],
   "source": [
    "exp3_gamma = 0.2 #exp3_gamma in [0.1, 0.2, 0.3, 0.4, 0.5]\n",
    "algo = Exp3(exp3_gamma, [])\n",
    "Alg_name = 'Exp3 Algorithm'\n",
    "path = './IrisExp3/'\n",
    "sys.path.append(\"./IrisEpsilonGreedy\")\n",
    "execfile('mnist_cnnFORTESTING.py')"
   ]
  },
  {
   "cell_type": "markdown",
   "metadata": {},
   "source": [
    "# Run Softmax pruning Algorithm"
   ]
  },
  {
   "cell_type": "code",
   "execution_count": null,
   "metadata": {
    "collapsed": false
   },
   "outputs": [],
   "source": [
    "temperature = 0.9\n",
    "algo = Softmax(temperature, [], [])\n",
    "Alg_name = 'Softmax Algorithm'\n",
    "path = './IrisSoftmax/'\n",
    "sys.path.append(\"./IrisSoftmax\")\n",
    "execfile('mnist_cnnFORTESTING.py')"
   ]
  },
  {
   "cell_type": "markdown",
   "metadata": {},
   "source": [
    "# Run Annealing Softmax pruning Algorithm"
   ]
  },
  {
   "cell_type": "code",
   "execution_count": null,
   "metadata": {
    "collapsed": false
   },
   "outputs": [],
   "source": [
    "algo = AnnealingSoftmax([], [])\n",
    "Alg_name = 'Annealing Softmax Algorithm'\n",
    "path = './IrisAnnealingSoftmax/'\n",
    "sys.path.append(\"./IrisAnnealingSoftmax\")\n",
    "execfile('mnist_cnnFORTESTING.py')"
   ]
  },
  {
   "cell_type": "markdown",
   "metadata": {},
   "source": [
    "# Run Hedge pruning Algorithm"
   ]
  },
  {
   "cell_type": "code",
   "execution_count": null,
   "metadata": {
    "collapsed": false
   },
   "outputs": [],
   "source": [
    "eta = 0.9  # eta in [.5, .8, .9, 1, 2]\n",
    "algo = Hedge(eta, [], []) \n",
    "Alg_name = 'Hedge Algorithm'\n",
    "path = './IrisHedge/'\n",
    "sys.path.append(\"./IrisHedge\")\n",
    "execfile('mnist_cnnFORTESTING.py')"
   ]
  },
  {
   "cell_type": "markdown",
   "metadata": {},
   "source": [
    "# Compare the accuracy of the models"
   ]
  },
  {
   "cell_type": "code",
   "execution_count": null,
   "metadata": {
    "collapsed": false
   },
   "outputs": [],
   "source": [
    "AccBefore = np.load('/home/salm/Documents/baby/AccuracyBEFOREPrune.npy')\n",
    "ucb1 = np.load('/home/salm/Documents/baby/IrisUCB1/AccuracyAftrerPrune.npy')\n",
    "EpsilonGreedy = np.load('/home/salm/Documents/baby/IrisEpsilonGreedy/AccuracyAftrerPrune.npy')\n",
    "AnnealingEpsilonGreedy = np.load('/home/salm/Documents/baby/IrisAnnealingEpsilonGreedy/AccuracyAftrerPrune.npy')\n",
    "Softmax = np.load('/home/salm/Documents/baby/IrisSoftmax/AccuracyAftrerPrune.npy')\n",
    "AnnealingSoftmax = np.load('/home/salm/Documents/baby/IrisAnnealingEpsilonGreedy/AccuracyAftrerPrune.npy')\n",
    "Exp3 = np.load('/home/salm/Documents/baby/IrisExp3/AccuracyAftrerPrune.npy')\n",
    "Hedge = np.load('/home/salm/Documents/baby/IrisHedge/AccuracyAftrerPrune.npy')"
   ]
  },
  {
   "cell_type": "code",
   "execution_count": null,
   "metadata": {
    "collapsed": false
   },
   "outputs": [],
   "source": [
    "fig = plt.figure(figsize=(10, 6), dpi=80)\n",
    "ax = fig.add_subplot(111)\n",
    "N = len(ucb1)\n",
    "## necessary variables\n",
    "ind = np.arange(N)                # the x locations for the groups\n",
    "plt.plot(ind , ucb1 , color=\"blue\", linewidth=2.5, linestyle=\"-\", label=\"UCB1\")\n",
    "plt.plot(ind , EpsilonGreedy, color=\"red\", linewidth=2.5, linestyle=\"-\", label=\"Epsilon Greedy\")\n",
    "plt.plot(ind , AnnealingEpsilonGreedy, color=\"cyan\", linewidth=2.5, linestyle=\"-\", label=\"Annealing Epsilon Greedy\")\n",
    "plt.plot(ind , Softmax, color=\"magenta\", linewidth=2.5, linestyle=\"-\", label=\"Softmax\")\n",
    "plt.plot(ind , AnnealingSoftmax, color=\"yellow\", linewidth=2.5, linestyle=\"-\", label=\"Annealing Softmax\")\n",
    "plt.plot(ind , Exp3, color=\"black\", linewidth=2.5, linestyle=\"-\", label=\"Exp3\")\n",
    "plt.plot(ind , Hedge, color=\"green\", linewidth=2.5, linestyle=\"-\", label=\"Hedge\")\n",
    "#plt.plot(ind , AccBefore, color=\"0.75\", linewidth=2.5, linestyle=\"-\", label=\"Acc Before Pruning\")\n",
    "plt.legend(loc = 3)\n",
    "plt.axis([0, 30, 0, 1])\n",
    "plt.grid(True)\n",
    "plt.show()"
   ]
  }
 ],
 "metadata": {
  "kernelspec": {
   "display_name": "Python 3",
   "language": "python",
   "name": "python3"
  },
  "language_info": {
   "codemirror_mode": {
    "name": "ipython",
    "version": 3
   },
   "file_extension": ".py",
   "mimetype": "text/x-python",
   "name": "python",
   "nbconvert_exporter": "python",
   "pygments_lexer": "ipython3",
   "version": "3.5.2"
  }
 },
 "nbformat": 4,
 "nbformat_minor": 0
}
